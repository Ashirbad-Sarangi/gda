{
 "cells": [
  {
   "cell_type": "code",
   "execution_count": 1,
   "id": "e9f9de05-0456-4aeb-bab1-fca08a96ea0f",
   "metadata": {},
   "outputs": [],
   "source": [
    "import pandas as analytics\n",
    "import os\n",
    "import matplotlib.pyplot as graph\n",
    "import numpy as maths\n",
    "from math import log\n",
    "import warnings\n",
    "warnings.filterwarnings('ignore')"
   ]
  },
  {
   "cell_type": "code",
   "execution_count": 2,
   "id": "117a96b6-b6a7-4c30-abaa-6ea9ffd6cd2e",
   "metadata": {},
   "outputs": [],
   "source": [
    "os.chdir('../data/')"
   ]
  },
  {
   "cell_type": "code",
   "execution_count": 3,
   "id": "6c9d730c-a9de-4e9e-ac18-a5a44a0845aa",
   "metadata": {},
   "outputs": [],
   "source": [
    "filename = 'data1.csv'"
   ]
  },
  {
   "cell_type": "markdown",
   "id": "998c6e5c-e128-413a-b1b0-76796a5557c6",
   "metadata": {},
   "source": [
    "# Manual Preprocessing"
   ]
  },
  {
   "cell_type": "code",
   "execution_count": 4,
   "id": "8d0a7b8a-8a64-4f80-80e6-9cc5f1286465",
   "metadata": {},
   "outputs": [
    {
     "data": {
      "text/html": [
       "<div>\n",
       "<style scoped>\n",
       "    .dataframe tbody tr th:only-of-type {\n",
       "        vertical-align: middle;\n",
       "    }\n",
       "\n",
       "    .dataframe tbody tr th {\n",
       "        vertical-align: top;\n",
       "    }\n",
       "\n",
       "    .dataframe thead th {\n",
       "        text-align: right;\n",
       "    }\n",
       "</style>\n",
       "<table border=\"1\" class=\"dataframe\">\n",
       "  <thead>\n",
       "    <tr style=\"text-align: right;\">\n",
       "      <th></th>\n",
       "      <th>0</th>\n",
       "      <th>1</th>\n",
       "      <th>2</th>\n",
       "    </tr>\n",
       "  </thead>\n",
       "  <tbody>\n",
       "    <tr>\n",
       "      <th>0</th>\n",
       "      <td>6</td>\n",
       "      <td>32</td>\n",
       "      <td>1</td>\n",
       "    </tr>\n",
       "    <tr>\n",
       "      <th>1</th>\n",
       "      <td>26</td>\n",
       "      <td>39</td>\n",
       "      <td>1</td>\n",
       "    </tr>\n",
       "    <tr>\n",
       "      <th>2</th>\n",
       "      <td>2</td>\n",
       "      <td>38</td>\n",
       "      <td>1</td>\n",
       "    </tr>\n",
       "    <tr>\n",
       "      <th>3</th>\n",
       "      <td>25</td>\n",
       "      <td>39</td>\n",
       "      <td>1</td>\n",
       "    </tr>\n",
       "    <tr>\n",
       "      <th>4</th>\n",
       "      <td>3</td>\n",
       "      <td>35</td>\n",
       "      <td>1</td>\n",
       "    </tr>\n",
       "  </tbody>\n",
       "</table>\n",
       "</div>"
      ],
      "text/plain": [
       "    0   1  2\n",
       "0   6  32  1\n",
       "1  26  39  1\n",
       "2   2  38  1\n",
       "3  25  39  1\n",
       "4   3  35  1"
      ]
     },
     "execution_count": 4,
     "metadata": {},
     "output_type": "execute_result"
    }
   ],
   "source": [
    "df_raw = analytics.read_csv(filename,header=None)\n",
    "df_raw.head()"
   ]
  },
  {
   "cell_type": "code",
   "execution_count": 5,
   "id": "8962d6a7-c830-4fa1-83b9-0ca2e1eff7ed",
   "metadata": {},
   "outputs": [],
   "source": [
    "# # df_raw = df_raw.drop(['sex','age'],axis =1)\n",
    "# df_raw.to_csv('check.csv',header=None,index =False)\n",
    "# df_raw = analytics.read_csv('check.csv',header=None)\n",
    "# df_raw.head()"
   ]
  },
  {
   "cell_type": "code",
   "execution_count": 6,
   "id": "a16e9fac-949e-448f-ab05-564318840eb2",
   "metadata": {},
   "outputs": [
    {
     "data": {
      "text/plain": [
       "Index([0, 1, 2], dtype='int64')"
      ]
     },
     "execution_count": 6,
     "metadata": {},
     "output_type": "execute_result"
    }
   ],
   "source": [
    "df_raw.columns"
   ]
  },
  {
   "cell_type": "code",
   "execution_count": 7,
   "id": "bff62473-0222-4a97-be82-816a5615c3c8",
   "metadata": {},
   "outputs": [
    {
     "data": {
      "text/html": [
       "<div>\n",
       "<style scoped>\n",
       "    .dataframe tbody tr th:only-of-type {\n",
       "        vertical-align: middle;\n",
       "    }\n",
       "\n",
       "    .dataframe tbody tr th {\n",
       "        vertical-align: top;\n",
       "    }\n",
       "\n",
       "    .dataframe thead th {\n",
       "        text-align: right;\n",
       "    }\n",
       "</style>\n",
       "<table border=\"1\" class=\"dataframe\">\n",
       "  <thead>\n",
       "    <tr style=\"text-align: right;\">\n",
       "      <th></th>\n",
       "      <th>x1</th>\n",
       "      <th>x2</th>\n",
       "      <th>y</th>\n",
       "    </tr>\n",
       "  </thead>\n",
       "  <tbody>\n",
       "    <tr>\n",
       "      <th>0</th>\n",
       "      <td>6</td>\n",
       "      <td>32</td>\n",
       "      <td>1</td>\n",
       "    </tr>\n",
       "    <tr>\n",
       "      <th>1</th>\n",
       "      <td>26</td>\n",
       "      <td>39</td>\n",
       "      <td>1</td>\n",
       "    </tr>\n",
       "    <tr>\n",
       "      <th>2</th>\n",
       "      <td>2</td>\n",
       "      <td>38</td>\n",
       "      <td>1</td>\n",
       "    </tr>\n",
       "    <tr>\n",
       "      <th>3</th>\n",
       "      <td>25</td>\n",
       "      <td>39</td>\n",
       "      <td>1</td>\n",
       "    </tr>\n",
       "    <tr>\n",
       "      <th>4</th>\n",
       "      <td>3</td>\n",
       "      <td>35</td>\n",
       "      <td>1</td>\n",
       "    </tr>\n",
       "  </tbody>\n",
       "</table>\n",
       "</div>"
      ],
      "text/plain": [
       "   x1  x2  y\n",
       "0   6  32  1\n",
       "1  26  39  1\n",
       "2   2  38  1\n",
       "3  25  39  1\n",
       "4   3  35  1"
      ]
     },
     "execution_count": 7,
     "metadata": {},
     "output_type": "execute_result"
    }
   ],
   "source": [
    "cols = ['x'+str(i+1) for i in df_raw.columns[:-1]] + ['y']\n",
    "df_raw.columns = cols\n",
    "# df_raw['y'] = df_raw['y'].replace('g',0).replace('b',1)\n",
    "# df_raw = df_raw.drop('x2',axis = 1)\n",
    "# df_raw\n",
    "df_raw.head()\n",
    "# cols"
   ]
  },
  {
   "cell_type": "markdown",
   "id": "47f056f1-f99a-4df9-b71b-ad5d49df6712",
   "metadata": {},
   "source": [
    "# Working Processing"
   ]
  },
  {
   "cell_type": "code",
   "execution_count": 8,
   "id": "02b2ae36-854b-4d16-b9e6-67d2fef48720",
   "metadata": {},
   "outputs": [],
   "source": [
    "training_perc = 0.7"
   ]
  },
  {
   "cell_type": "code",
   "execution_count": 9,
   "id": "ccaaa7e0-ff1f-4a66-860a-e6e35b618f79",
   "metadata": {},
   "outputs": [],
   "source": [
    "training_number =  int(training_perc * len(df_raw))\n",
    "df_raw = df_raw.sample(frac = 1)\n",
    "df_train = df_raw[:training_number]\n",
    "df_test = df_raw[training_number:]"
   ]
  },
  {
   "cell_type": "code",
   "execution_count": 10,
   "id": "234861db-6d96-4781-80ff-ccc7d6039152",
   "metadata": {},
   "outputs": [
    {
     "data": {
      "text/html": [
       "<div>\n",
       "<style scoped>\n",
       "    .dataframe tbody tr th:only-of-type {\n",
       "        vertical-align: middle;\n",
       "    }\n",
       "\n",
       "    .dataframe tbody tr th {\n",
       "        vertical-align: top;\n",
       "    }\n",
       "\n",
       "    .dataframe thead th {\n",
       "        text-align: right;\n",
       "    }\n",
       "</style>\n",
       "<table border=\"1\" class=\"dataframe\">\n",
       "  <thead>\n",
       "    <tr style=\"text-align: right;\">\n",
       "      <th></th>\n",
       "      <th>x1</th>\n",
       "      <th>x2</th>\n",
       "      <th>y</th>\n",
       "    </tr>\n",
       "  </thead>\n",
       "  <tbody>\n",
       "    <tr>\n",
       "      <th>145</th>\n",
       "      <td>0.877551</td>\n",
       "      <td>0.755102</td>\n",
       "      <td>-1</td>\n",
       "    </tr>\n",
       "    <tr>\n",
       "      <th>153</th>\n",
       "      <td>0.653061</td>\n",
       "      <td>0.285714</td>\n",
       "      <td>-1</td>\n",
       "    </tr>\n",
       "    <tr>\n",
       "      <th>102</th>\n",
       "      <td>0.755102</td>\n",
       "      <td>0.530612</td>\n",
       "      <td>-1</td>\n",
       "    </tr>\n",
       "    <tr>\n",
       "      <th>62</th>\n",
       "      <td>0.183673</td>\n",
       "      <td>0.816327</td>\n",
       "      <td>1</td>\n",
       "    </tr>\n",
       "    <tr>\n",
       "      <th>163</th>\n",
       "      <td>0.857143</td>\n",
       "      <td>0.306122</td>\n",
       "      <td>-1</td>\n",
       "    </tr>\n",
       "    <tr>\n",
       "      <th>...</th>\n",
       "      <td>...</td>\n",
       "      <td>...</td>\n",
       "      <td>...</td>\n",
       "    </tr>\n",
       "    <tr>\n",
       "      <th>193</th>\n",
       "      <td>0.510204</td>\n",
       "      <td>0.020408</td>\n",
       "      <td>-1</td>\n",
       "    </tr>\n",
       "    <tr>\n",
       "      <th>56</th>\n",
       "      <td>0.163265</td>\n",
       "      <td>0.469388</td>\n",
       "      <td>1</td>\n",
       "    </tr>\n",
       "    <tr>\n",
       "      <th>93</th>\n",
       "      <td>0.142857</td>\n",
       "      <td>0.897959</td>\n",
       "      <td>1</td>\n",
       "    </tr>\n",
       "    <tr>\n",
       "      <th>168</th>\n",
       "      <td>0.734694</td>\n",
       "      <td>0.734694</td>\n",
       "      <td>-1</td>\n",
       "    </tr>\n",
       "    <tr>\n",
       "      <th>142</th>\n",
       "      <td>0.857143</td>\n",
       "      <td>0.510204</td>\n",
       "      <td>-1</td>\n",
       "    </tr>\n",
       "  </tbody>\n",
       "</table>\n",
       "<p>140 rows × 3 columns</p>\n",
       "</div>"
      ],
      "text/plain": [
       "           x1        x2  y\n",
       "145  0.877551  0.755102 -1\n",
       "153  0.653061  0.285714 -1\n",
       "102  0.755102  0.530612 -1\n",
       "62   0.183673  0.816327  1\n",
       "163  0.857143  0.306122 -1\n",
       "..        ...       ... ..\n",
       "193  0.510204  0.020408 -1\n",
       "56   0.163265  0.469388  1\n",
       "93   0.142857  0.897959  1\n",
       "168  0.734694  0.734694 -1\n",
       "142  0.857143  0.510204 -1\n",
       "\n",
       "[140 rows x 3 columns]"
      ]
     },
     "execution_count": 10,
     "metadata": {},
     "output_type": "execute_result"
    }
   ],
   "source": [
    "maxima = {}\n",
    "minima = {}\n",
    "for col in df_raw.columns[:-1]:\n",
    "    maxima.update({col:df_train[col].max()})\n",
    "    minima.update({col:df_train[col].min()})    \n",
    "    df_train[col] = (df_train[col] - minima[col])/(maxima[col] - minima[col])\n",
    "df_train"
   ]
  },
  {
   "cell_type": "code",
   "execution_count": 11,
   "id": "9cf140a2-485f-44f7-8593-327c4f6f403d",
   "metadata": {},
   "outputs": [
    {
     "data": {
      "image/png": "[encoded data removed]",
      "text/plain": [
       "<Figure size 720x720 with 1 Axes>"
      ]
     },
     "metadata": {
      "needs_background": "light"
     },
     "output_type": "display_data"
    }
   ],
   "source": [
    "df_pos = df_train[df_train['y'] == 1]\n",
    "df_neg = df_train[df_train['y'] == -1]\n",
    "figure = graph.figure(figsize=(10,10))\n",
    "graph.scatter(df_pos['x1'], df_pos['x2'], c = 'blue',label = 'Positive Class')\n",
    "graph.scatter(df_neg['x1'], df_neg['x2'], c = 'red', label = 'Negative Class')\n",
    "graph.title(\"Class\")\n",
    "graph.xlabel(\"X1\")\n",
    "graph.ylabel(\"X2\")\n",
    "graph.legend()\n",
    "graph.show()"
   ]
  },
  {
   "cell_type": "code",
   "execution_count": 12,
   "id": "17fe886d-6818-4dc5-85cd-28bbc3825622",
   "metadata": {},
   "outputs": [],
   "source": [
    "mu_pos = df_pos.iloc[:,:-1].mean()\n",
    "mu_neg = df_neg.iloc[:,:-1].mean()"
   ]
  },
  {
   "cell_type": "code",
   "execution_count": 13,
   "id": "e236c1aa-a6de-48a4-a2e2-34b81bb118ce",
   "metadata": {},
   "outputs": [],
   "source": [
    "x_p = (df_pos - mu_pos).iloc[:,:-1]\n",
    "x_n = (df_neg - mu_neg).iloc[:,:-1]"
   ]
  },
  {
   "cell_type": "code",
   "execution_count": 14,
   "id": "6adf66a7-e3a0-49d2-bb00-f447ca23036d",
   "metadata": {},
   "outputs": [],
   "source": [
    "covariance_matrix_pos = (x_p.T @ x_p) / (len(x_p) - 1)\n",
    "covariance_matrix_neg = (x_n.T @ x_n) / (len(x_n) - 1 ) "
   ]
  },
  {
   "cell_type": "code",
   "execution_count": 15,
   "id": "d31848bc-8247-4b20-9635-bb204bef378f",
   "metadata": {},
   "outputs": [
    {
     "data": {
      "text/html": [
       "<div>\n",
       "<style scoped>\n",
       "    .dataframe tbody tr th:only-of-type {\n",
       "        vertical-align: middle;\n",
       "    }\n",
       "\n",
       "    .dataframe tbody tr th {\n",
       "        vertical-align: top;\n",
       "    }\n",
       "\n",
       "    .dataframe thead th {\n",
       "        text-align: right;\n",
       "    }\n",
       "</style>\n",
       "<table border=\"1\" class=\"dataframe\">\n",
       "  <thead>\n",
       "    <tr style=\"text-align: right;\">\n",
       "      <th></th>\n",
       "      <th>x1</th>\n",
       "      <th>x2</th>\n",
       "    </tr>\n",
       "  </thead>\n",
       "  <tbody>\n",
       "    <tr>\n",
       "      <th>x1</th>\n",
       "      <td>0.047684</td>\n",
       "      <td>0.025146</td>\n",
       "    </tr>\n",
       "    <tr>\n",
       "      <th>x2</th>\n",
       "      <td>0.025146</td>\n",
       "      <td>0.067606</td>\n",
       "    </tr>\n",
       "  </tbody>\n",
       "</table>\n",
       "</div>"
      ],
      "text/plain": [
       "          x1        x2\n",
       "x1  0.047684  0.025146\n",
       "x2  0.025146  0.067606"
      ]
     },
     "execution_count": 15,
     "metadata": {},
     "output_type": "execute_result"
    }
   ],
   "source": [
    "covariance_matrix = ((len(x_p) - 1 )*covariance_matrix_pos + (len(x_n) - 1 )*covariance_matrix_neg)/((len(x_n) - 1 ) + (len(x_p) - 1 ))\n",
    "covariance_matrix"
   ]
  },
  {
   "cell_type": "code",
   "execution_count": 16,
   "id": "2d5c94bc-2037-49eb-bfd5-e48ed51ee90c",
   "metadata": {},
   "outputs": [],
   "source": [
    "mu_pos = df_pos.iloc[:,:-1].mean()\n",
    "mu_neg = df_neg.iloc[:,:-1].mean()"
   ]
  },
  {
   "cell_type": "code",
   "execution_count": 17,
   "id": "76de5021-c9d3-47d0-b0b9-b622962b77ff",
   "metadata": {},
   "outputs": [
    {
     "data": {
      "text/plain": [
       "array([[26.0884952 , -9.70354684],\n",
       "       [-9.70354684, 18.40079643]])"
      ]
     },
     "execution_count": 17,
     "metadata": {},
     "output_type": "execute_result"
    }
   ],
   "source": [
    "covariance_matrix_inv = maths.linalg.inv(covariance_matrix)\n",
    "covariance_matrix_inv"
   ]
  },
  {
   "cell_type": "code",
   "execution_count": 23,
   "id": "edf7c955-0867-4aa3-bfea-1dc3aa9fedd6",
   "metadata": {},
   "outputs": [],
   "source": [
    "w = covariance_matrix_inv @ maths.array(mu_pos - mu_neg)\n",
    "w = maths.array(w).reshape(-1,1)"
   ]
  },
  {
   "cell_type": "code",
   "execution_count": 19,
   "id": "5db1e8f7-77d2-4749-a297-89f36561393f",
   "metadata": {},
   "outputs": [],
   "source": [
    "pi_pos = len(df_pos)/len(df_train)\n",
    "pi_neg = len(df_neg)/len(df_train)"
   ]
  },
  {
   "cell_type": "code",
   "execution_count": 24,
   "id": "c2020425-58b7-48ac-af01-2851c40506df",
   "metadata": {},
   "outputs": [],
   "source": [
    "w0 = (- 0.5 * mu_pos @ covariance_matrix_inv @ mu_pos.T) + (0.5 * mu_neg @ covariance_matrix_inv @ mu_neg.T) + log(abs(pi_pos / pi_neg))"
   ]
  },
  {
   "cell_type": "code",
   "execution_count": 27,
   "id": "5745acdf-51f1-492f-a816-33d15b499f8a",
   "metadata": {},
   "outputs": [
    {
     "data": {
      "image/png": "[encoded data removed]",
      "text/plain": [
       "<Figure size 720x720 with 1 Axes>"
      ]
     },
     "metadata": {
      "needs_background": "light"
     },
     "output_type": "display_data"
    }
   ],
   "source": [
    "hyperplane = -((w[0] * df_train['x1'])  + w0)/w[1]\n",
    "\n",
    "figure = graph.figure(figsize=(10,10))\n",
    "graph.scatter(df_pos['x1'], df_pos['x2'], c = 'blue',label = 'Positive Class')\n",
    "graph.scatter(df_neg['x1'], df_neg['x2'], c = 'red', label = 'Negative Class')\n",
    "graph.title(\"Class\")\n",
    "graph.xlabel(\"X1\")\n",
    "graph.ylabel(\"X2\")\n",
    "graph.legend()\n",
    "graph.plot(df_train['x1'],hyperplane)\n",
    "graph.show()"
   ]
  },
  {
   "cell_type": "code",
   "execution_count": 30,
   "id": "15b9f9a7-d001-402c-a550-f1b41d91a0c3",
   "metadata": {},
   "outputs": [
    {
     "data": {
      "image/png": "[encoded data removed]",
      "text/plain": [
       "<Figure size 720x720 with 1 Axes>"
      ]
     },
     "metadata": {
      "needs_background": "light"
     },
     "output_type": "display_data"
    }
   ],
   "source": [
    "hyperplane = -((w[0] * df_test['x1'])  + w0)/w[1]\n",
    "\n",
    "df_pos = df_test[df_test['y'] == 1]\n",
    "df_neg = df_test[df_test['y'] == -1]\n",
    "\n",
    "figure = graph.figure(figsize=(10,10))\n",
    "graph.scatter(df_pos['x1'], df_pos['x2'], c = 'blue',label = 'Positive Class')\n",
    "graph.scatter(df_neg['x1'], df_neg['x2'], c = 'red', label = 'Negative Class')\n",
    "graph.title(\"Class\")\n",
    "graph.xlabel(\"X1\")\n",
    "graph.ylabel(\"X2\")\n",
    "graph.legend()\n",
    "graph.plot(df_test['x1'],hyperplane)\n",
    "graph.show()"
   ]
  }
 ],
 "metadata": {
  "kernelspec": {
   "display_name": "Python 3 (ipykernel)",
   "language": "python",
   "name": "python3"
  },
  "language_info": {
   "codemirror_mode": {
    "name": "ipython",
    "version": 3
   },
   "file_extension": ".py",
   "mimetype": "text/x-python",
   "name": "python",
   "nbconvert_exporter": "python",
   "pygments_lexer": "ipython3",
   "version": "3.10.12"
  }
 },
 "nbformat": 4,
 "nbformat_minor": 5
}
